{
 "cells": [
  {
   "cell_type": "code",
   "execution_count": 3,
   "metadata": {
    "collapsed": true
   },
   "outputs": [],
   "source": [
    "#Importing necessary modules\n",
    "import pandas as pd\n",
    "import numpy as np \n",
    "import matplotlib.pyplot as plt \n",
    "import seaborn as sns\n",
    "from capstone2_helper_functions import sl_and_le, avh, pl5y, wa, att"
   ]
  },
  {
   "cell_type": "code",
   "execution_count": 4,
   "metadata": {},
   "outputs": [
    {
     "data": {
      "text/html": [
       "<div>\n",
       "<style>\n",
       "    .dataframe thead tr:only-child th {\n",
       "        text-align: right;\n",
       "    }\n",
       "\n",
       "    .dataframe thead th {\n",
       "        text-align: left;\n",
       "    }\n",
       "\n",
       "    .dataframe tbody tr th {\n",
       "        vertical-align: top;\n",
       "    }\n",
       "</style>\n",
       "<table border=\"1\" class=\"dataframe\">\n",
       "  <thead>\n",
       "    <tr style=\"text-align: right;\">\n",
       "      <th></th>\n",
       "      <th>satisfaction_level</th>\n",
       "      <th>last_evaluation</th>\n",
       "      <th>project_number</th>\n",
       "      <th>average_monthly_hours</th>\n",
       "      <th>years_at_company</th>\n",
       "      <th>work_accidents</th>\n",
       "      <th>attrition</th>\n",
       "      <th>promotion_last_5years</th>\n",
       "      <th>department</th>\n",
       "      <th>salary</th>\n",
       "    </tr>\n",
       "  </thead>\n",
       "  <tbody>\n",
       "    <tr>\n",
       "      <th>0</th>\n",
       "      <td>0.38</td>\n",
       "      <td>0.53</td>\n",
       "      <td>2</td>\n",
       "      <td>157</td>\n",
       "      <td>3</td>\n",
       "      <td>0</td>\n",
       "      <td>1</td>\n",
       "      <td>0</td>\n",
       "      <td>sales</td>\n",
       "      <td>low</td>\n",
       "    </tr>\n",
       "    <tr>\n",
       "      <th>1</th>\n",
       "      <td>0.80</td>\n",
       "      <td>0.86</td>\n",
       "      <td>5</td>\n",
       "      <td>262</td>\n",
       "      <td>6</td>\n",
       "      <td>0</td>\n",
       "      <td>1</td>\n",
       "      <td>0</td>\n",
       "      <td>sales</td>\n",
       "      <td>medium</td>\n",
       "    </tr>\n",
       "    <tr>\n",
       "      <th>2</th>\n",
       "      <td>0.11</td>\n",
       "      <td>0.88</td>\n",
       "      <td>7</td>\n",
       "      <td>272</td>\n",
       "      <td>4</td>\n",
       "      <td>0</td>\n",
       "      <td>1</td>\n",
       "      <td>0</td>\n",
       "      <td>sales</td>\n",
       "      <td>medium</td>\n",
       "    </tr>\n",
       "    <tr>\n",
       "      <th>3</th>\n",
       "      <td>0.72</td>\n",
       "      <td>0.87</td>\n",
       "      <td>5</td>\n",
       "      <td>223</td>\n",
       "      <td>5</td>\n",
       "      <td>0</td>\n",
       "      <td>1</td>\n",
       "      <td>0</td>\n",
       "      <td>sales</td>\n",
       "      <td>low</td>\n",
       "    </tr>\n",
       "    <tr>\n",
       "      <th>4</th>\n",
       "      <td>0.37</td>\n",
       "      <td>0.52</td>\n",
       "      <td>2</td>\n",
       "      <td>159</td>\n",
       "      <td>3</td>\n",
       "      <td>0</td>\n",
       "      <td>1</td>\n",
       "      <td>0</td>\n",
       "      <td>sales</td>\n",
       "      <td>low</td>\n",
       "    </tr>\n",
       "  </tbody>\n",
       "</table>\n",
       "</div>"
      ],
      "text/plain": [
       "   satisfaction_level  last_evaluation  project_number  average_monthly_hours  \\\n",
       "0                0.38             0.53               2                    157   \n",
       "1                0.80             0.86               5                    262   \n",
       "2                0.11             0.88               7                    272   \n",
       "3                0.72             0.87               5                    223   \n",
       "4                0.37             0.52               2                    159   \n",
       "\n",
       "   years_at_company  work_accidents  attrition  promotion_last_5years  \\\n",
       "0                 3               0          1                      0   \n",
       "1                 6               0          1                      0   \n",
       "2                 4               0          1                      0   \n",
       "3                 5               0          1                      0   \n",
       "4                 3               0          1                      0   \n",
       "\n",
       "  department  salary  \n",
       "0      sales     low  \n",
       "1      sales  medium  \n",
       "2      sales  medium  \n",
       "3      sales     low  \n",
       "4      sales     low  "
      ]
     },
     "execution_count": 4,
     "metadata": {},
     "output_type": "execute_result"
    }
   ],
   "source": [
    "#Reading in CSV file and displaying first 5 columns after renaming columns\n",
    "employee_data = pd.read_csv('HR_comma_sep.csv')\n",
    "employee_data.columns = ['satisfaction_level','last_evaluation','project_number','average_monthly_hours',\n",
    "                        'years_at_company','work_accidents','attrition','promotion_last_5years','department','salary']\n",
    "employee_data.head()"
   ]
  },
  {
   "cell_type": "code",
   "execution_count": 6,
   "metadata": {},
   "outputs": [
    {
     "data": {
      "image/png": "[encoded data removed]",
      "text/plain": [
       "<matplotlib.figure.Figure at 0x1104b2f60>"
      ]
     },
     "metadata": {},
     "output_type": "display_data"
    }
   ],
   "source": [
    "#This funtion groups dataframe by unique categorical variables in feature column passed as first argument, after\n",
    "#converting by a helper function(optional) passed as second argument\n",
    "#and aggregates by the count of binary target variable, attrition_No and attrition_Yes\n",
    "def group_df(column_name,function=None)->'grouped df':\n",
    "    df = employee_data.loc[:,['attrition']]\n",
    "    df.loc[:,'attrition'] = df.loc[:,'attrition'].apply(att)\n",
    "    df = pd.get_dummies(df)\n",
    "    df_r = employee_data.loc[:,[column_name]]\n",
    "    if function != None:\n",
    "        df_r.loc[:,column_name] = df_r.loc[:,column_name].apply(function)\n",
    "    df = df.merge(df_r,right_index=True,left_index=True)\n",
    "    df = df.groupby(column_name)\n",
    "    df = df[['attrition_Yes','attrition_No']].sum()\n",
    "    return pd.DataFrame(df).reset_index().sort_values('attrition_Yes',ascending=False)\n",
    "#Applying aformetioned function to each feature column passing in necessary arguements and helper functions \n",
    "#imported from capstone2_helper_functions module and saving returned grouped dataframes in global variables\n",
    "_by_satisfaction = group_df('satisfaction_level',sl_and_le)\n",
    "_by_last_evaluation = group_df('last_evaluation',sl_and_le)\n",
    "_by_project_number = group_df('project_number')\n",
    "_by_avg_monthly_hours = group_df('average_monthly_hours',avh)\n",
    "_by_years_at_company = group_df('years_at_company')\n",
    "_by_work_accident = group_df('work_accidents',wa)\n",
    "_by_promotion = group_df('promotion_last_5years',pl5y)\n",
    "_by_department = group_df('department')\n",
    "_by_salary = group_df('salary')\n",
    "#Plotting breakdown of total employee attrition by each feature variable\n",
    "sns.set(style=\"whitegrid\")\n",
    "fig, ax = plt.subplots(figsize=(13,13))\n",
    "plt.subplot(3,3,1)\n",
    "sns.stripplot(x='attrition_Yes',y='satisfaction_level',data=_by_satisfaction,marker='D',size=10,color= sns.xkcd_rgb[\"rose\"])\n",
    "plt.xlabel('Employee Attrition')\n",
    "plt.title('By Satisfaction Level')\n",
    "plt.subplot(3,3,2)\n",
    "sns.stripplot(x='attrition_Yes',y='last_evaluation',data=_by_last_evaluation,marker='D',size=10,color= sns.xkcd_rgb[\"mint green\"])\n",
    "plt.xlabel('Employee Attrition')\n",
    "plt.title('By Score on Last Evaluation')\n",
    "plt.subplot(3,3,3)\n",
    "sns.stripplot(x='attrition_Yes',y='project_number',data=_by_project_number,marker='D',size=10,color= sns.xkcd_rgb[\"lilac\"])\n",
    "plt.xlabel('Employee Attrition')\n",
    "plt.title('By Project Number')\n",
    "plt.subplot(3,3,4)\n",
    "sns.stripplot(x='attrition_Yes',y='average_monthly_hours',data=_by_avg_monthly_hours,marker='D',size=10,color= sns.xkcd_rgb[\"sea blue\"])\n",
    "plt.xlabel('Employee Attrition')\n",
    "plt.title('By Average Monthly Hours')\n",
    "plt.subplot(3,3,5)\n",
    "sns.stripplot(x='attrition_Yes',y='years_at_company',data=_by_years_at_company,marker='D',size=10,color= sns.xkcd_rgb[\"pumpkin orange\"])\n",
    "plt.xlabel('Employee Attrition')\n",
    "plt.title('By Years at Company')\n",
    "plt.subplot(3,3,6)\n",
    "sns.stripplot(x='attrition_Yes',y='work_accidents',data=_by_work_accident,marker='D',size=10,color= sns.xkcd_rgb[\"merlot\"])\n",
    "plt.xlabel('Employee Attrition')\n",
    "plt.title('By Work Accident')\n",
    "plt.subplot(3,3,7)\n",
    "sns.stripplot(x='attrition_Yes',y='promotion_last_5years',data=_by_promotion,marker='D',size=10,color= sns.xkcd_rgb[\"marigold\"])\n",
    "plt.xlabel('Employee Attrition')\n",
    "plt.title('By Promotion in Last 5 Years')\n",
    "plt.subplot(3,3,8)\n",
    "sns.stripplot(x='attrition_Yes',y='department',data=_by_department,marker='D',size=10,color= sns.xkcd_rgb[\"bubblegum pink\"])\n",
    "plt.xlabel('Employee Attrition')\n",
    "plt.title('By Department')\n",
    "plt.subplot(3,3,9)\n",
    "sns.stripplot(x='attrition_Yes',y='salary',data=_by_salary,marker='D',size=10,color= sns.xkcd_rgb[\"turquoise green\"])\n",
    "plt.xlabel('Employee Attrition')\n",
    "plt.title('By Salary')\n",
    "\n",
    "plt.tight_layout()\n",
    "plt.show()"
   ]
  },
  {
   "cell_type": "markdown",
   "metadata": {},
   "source": [
    "## Pre-processing dataset for machine learning algorithims"
   ]
  },
  {
   "cell_type": "markdown",
   "metadata": {},
   "source": [
    "### One Hot Encoding and Label Encoding appropriate columns"
   ]
  },
  {
   "cell_type": "code",
   "execution_count": 7,
   "metadata": {},
   "outputs": [
    {
     "data": {
      "text/html": [
       "<div>\n",
       "<style>\n",
       "    .dataframe thead tr:only-child th {\n",
       "        text-align: right;\n",
       "    }\n",
       "\n",
       "    .dataframe thead th {\n",
       "        text-align: left;\n",
       "    }\n",
       "\n",
       "    .dataframe tbody tr th {\n",
       "        vertical-align: top;\n",
       "    }\n",
       "</style>\n",
       "<table border=\"1\" class=\"dataframe\">\n",
       "  <thead>\n",
       "    <tr style=\"text-align: right;\">\n",
       "      <th></th>\n",
       "      <th>satisfaction_level</th>\n",
       "      <th>last_evaluation</th>\n",
       "      <th>project_number</th>\n",
       "      <th>average_monthly_hours</th>\n",
       "      <th>years_at_company</th>\n",
       "      <th>work_accidents</th>\n",
       "      <th>attrition</th>\n",
       "      <th>promotion_last_5years</th>\n",
       "      <th>salary</th>\n",
       "      <th>department_RandD</th>\n",
       "      <th>department_accounting</th>\n",
       "      <th>department_hr</th>\n",
       "      <th>department_management</th>\n",
       "      <th>department_marketing</th>\n",
       "      <th>department_product_mng</th>\n",
       "      <th>department_sales</th>\n",
       "      <th>department_support</th>\n",
       "      <th>department_technical</th>\n",
       "    </tr>\n",
       "  </thead>\n",
       "  <tbody>\n",
       "    <tr>\n",
       "      <th>0</th>\n",
       "      <td>0.38</td>\n",
       "      <td>0.53</td>\n",
       "      <td>2</td>\n",
       "      <td>157</td>\n",
       "      <td>3</td>\n",
       "      <td>0</td>\n",
       "      <td>1</td>\n",
       "      <td>0</td>\n",
       "      <td>1</td>\n",
       "      <td>0</td>\n",
       "      <td>0</td>\n",
       "      <td>0</td>\n",
       "      <td>0</td>\n",
       "      <td>0</td>\n",
       "      <td>0</td>\n",
       "      <td>1</td>\n",
       "      <td>0</td>\n",
       "      <td>0</td>\n",
       "    </tr>\n",
       "    <tr>\n",
       "      <th>1</th>\n",
       "      <td>0.80</td>\n",
       "      <td>0.86</td>\n",
       "      <td>5</td>\n",
       "      <td>262</td>\n",
       "      <td>6</td>\n",
       "      <td>0</td>\n",
       "      <td>1</td>\n",
       "      <td>0</td>\n",
       "      <td>2</td>\n",
       "      <td>0</td>\n",
       "      <td>0</td>\n",
       "      <td>0</td>\n",
       "      <td>0</td>\n",
       "      <td>0</td>\n",
       "      <td>0</td>\n",
       "      <td>1</td>\n",
       "      <td>0</td>\n",
       "      <td>0</td>\n",
       "    </tr>\n",
       "    <tr>\n",
       "      <th>2</th>\n",
       "      <td>0.11</td>\n",
       "      <td>0.88</td>\n",
       "      <td>7</td>\n",
       "      <td>272</td>\n",
       "      <td>4</td>\n",
       "      <td>0</td>\n",
       "      <td>1</td>\n",
       "      <td>0</td>\n",
       "      <td>2</td>\n",
       "      <td>0</td>\n",
       "      <td>0</td>\n",
       "      <td>0</td>\n",
       "      <td>0</td>\n",
       "      <td>0</td>\n",
       "      <td>0</td>\n",
       "      <td>1</td>\n",
       "      <td>0</td>\n",
       "      <td>0</td>\n",
       "    </tr>\n",
       "    <tr>\n",
       "      <th>3</th>\n",
       "      <td>0.72</td>\n",
       "      <td>0.87</td>\n",
       "      <td>5</td>\n",
       "      <td>223</td>\n",
       "      <td>5</td>\n",
       "      <td>0</td>\n",
       "      <td>1</td>\n",
       "      <td>0</td>\n",
       "      <td>1</td>\n",
       "      <td>0</td>\n",
       "      <td>0</td>\n",
       "      <td>0</td>\n",
       "      <td>0</td>\n",
       "      <td>0</td>\n",
       "      <td>0</td>\n",
       "      <td>1</td>\n",
       "      <td>0</td>\n",
       "      <td>0</td>\n",
       "    </tr>\n",
       "    <tr>\n",
       "      <th>4</th>\n",
       "      <td>0.37</td>\n",
       "      <td>0.52</td>\n",
       "      <td>2</td>\n",
       "      <td>159</td>\n",
       "      <td>3</td>\n",
       "      <td>0</td>\n",
       "      <td>1</td>\n",
       "      <td>0</td>\n",
       "      <td>1</td>\n",
       "      <td>0</td>\n",
       "      <td>0</td>\n",
       "      <td>0</td>\n",
       "      <td>0</td>\n",
       "      <td>0</td>\n",
       "      <td>0</td>\n",
       "      <td>1</td>\n",
       "      <td>0</td>\n",
       "      <td>0</td>\n",
       "    </tr>\n",
       "  </tbody>\n",
       "</table>\n",
       "</div>"
      ],
      "text/plain": [
       "   satisfaction_level  last_evaluation  project_number  average_monthly_hours  \\\n",
       "0                0.38             0.53               2                    157   \n",
       "1                0.80             0.86               5                    262   \n",
       "2                0.11             0.88               7                    272   \n",
       "3                0.72             0.87               5                    223   \n",
       "4                0.37             0.52               2                    159   \n",
       "\n",
       "   years_at_company  work_accidents  attrition  promotion_last_5years  salary  \\\n",
       "0                 3               0          1                      0       1   \n",
       "1                 6               0          1                      0       2   \n",
       "2                 4               0          1                      0       2   \n",
       "3                 5               0          1                      0       1   \n",
       "4                 3               0          1                      0       1   \n",
       "\n",
       "   department_RandD  department_accounting  department_hr  \\\n",
       "0                 0                      0              0   \n",
       "1                 0                      0              0   \n",
       "2                 0                      0              0   \n",
       "3                 0                      0              0   \n",
       "4                 0                      0              0   \n",
       "\n",
       "   department_management  department_marketing  department_product_mng  \\\n",
       "0                      0                     0                       0   \n",
       "1                      0                     0                       0   \n",
       "2                      0                     0                       0   \n",
       "3                      0                     0                       0   \n",
       "4                      0                     0                       0   \n",
       "\n",
       "   department_sales  department_support  department_technical  \n",
       "0                 1                   0                     0  \n",
       "1                 1                   0                     0  \n",
       "2                 1                   0                     0  \n",
       "3                 1                   0                     0  \n",
       "4                 1                   0                     0  "
      ]
     },
     "execution_count": 7,
     "metadata": {},
     "output_type": "execute_result"
    }
   ],
   "source": [
    "employee_data.loc[:,'salary'].replace(['high','medium','low'],[3,2,1],inplace=True)\n",
    "employee_data_p = pd.get_dummies(employee_data, drop_first=True)\n",
    "employee_data_p.head(5)"
   ]
  },
  {
   "cell_type": "code",
   "execution_count": 8,
   "metadata": {
    "collapsed": true
   },
   "outputs": [],
   "source": [
    "#Importing necessary moduels and libraries\n",
    "from sklearn.model_selection import train_test_split, GridSearchCV, RandomizedSearchCV,cross_val_score\n",
    "from sklearn.ensemble import VotingClassifier\n",
    "from sklearn.svm import SVC\n",
    "from sklearn.neighbors import KNeighborsClassifier\n",
    "from sklearn.tree import DecisionTreeClassifier\n",
    "from sklearn.tree import ExtraTreeClassifier\n",
    "from sklearn.linear_model import LogisticRegression\n",
    "from sklearn.ensemble import RandomForestClassifier\n",
    "from sklearn.ensemble import ExtraTreesClassifier\n",
    "from sklearn.ensemble import AdaBoostClassifier\n",
    "from sklearn.ensemble import GradientBoostingClassifier\n",
    "from pandas_ml import ConfusionMatrix\n",
    "%matplotlib inline\n",
    "#Splitting the dataset into testing and training sets\n",
    "X = np.array(employee_data_p.drop(['attrition'],axis=1))\n",
    "y = np.array(employee_data_p['attrition'])\n",
    "X_train,X_test,y_train,y_test = train_test_split(X,y,test_size=0.2,random_state=42)\n",
    "#ML helper function\n",
    "def display_stats(model,name):\n",
    "    print()\n",
    "    print('-*-*-*-*-*-*-*-*-*-*-*-*-*-*-*-*-*-*-*-*-*-*-*-*-*')\n",
    "    print()\n",
    "    print('Accuracy on unseen hold out set:',model.score(X_test,y_test)*100,'%')\n",
    "    print()\n",
    "    y_pred = model.predict(X_test)\n",
    "    y_pred_s = pd.Series(y_pred).replace([0,1],['Attriton_No','Attrition_Yes'])\n",
    "    y_test_s = pd.Series(y_test).replace([0,1],['Attriton_No','Attrition_Yes'])\n",
    "    confusion_matrix = ConfusionMatrix(y_test_s,y_pred_s)\n",
    "    confusion_matrix.plot(normalized=True,backend='seaborn')\n",
    "    plt.title('Confusion Matrix For '+str(name))\n",
    "    plt.show()\n",
    "    print(\"Binary confusion matrix:\\n%s\" %confusion_matrix)\n",
    "    print()\n",
    "    print('Positive = Attriton_No(employee did not leave)')\n",
    "    print('Negative = Attriton_Yes(employee left)')\n",
    "    print()\n",
    "    print('True Positive Rate:',confusion_matrix.TPR * 100,'%')\n",
    "    print('False Positive Rate:',confusion_matrix.FPR * 100,'%')\n",
    "    print('True Negative Rate:',confusion_matrix.TNR * 100,'%')\n",
    "    print('False Negative Rate:',confusion_matrix.FNR * 100,'%')"
   ]
  },
  {
   "cell_type": "markdown",
   "metadata": {},
   "source": [
    "## Voting Classifier"
   ]
  },
  {
   "cell_type": "markdown",
   "metadata": {},
   "source": [
    "### Tuning C and Gamma for SVC"
   ]
  },
  {
   "cell_type": "code",
   "execution_count": 93,
   "metadata": {},
   "outputs": [
    {
     "name": "stdout",
     "output_type": "stream",
     "text": [
      "{'C': 1.0, 'gamma': 1.0}\n",
      "0.954412867739\n"
     ]
    }
   ],
   "source": [
    "C_range = 10. ** np.arange(-3,1)\n",
    "gamma_range = 10. ** np.arange(-4,1)\n",
    "param_grid_svc = dict(gamma=gamma_range,C=C_range)\n",
    "svc = SVC()\n",
    "svc_cv = GridSearchCV(svc,param_grid_svc,cv=5)\n",
    "svc_cv.fit(X_train,y_train)\n",
    "print(svc_cv.best_params_)\n",
    "print(svc_cv.best_score_)"
   ]
  },
  {
   "cell_type": "code",
   "execution_count": 96,
   "metadata": {},
   "outputs": [
    {
     "name": "stdout",
     "output_type": "stream",
     "text": [
      "{'C': 10000.0}\n",
      "0.959079923327\n"
     ]
    }
   ],
   "source": [
    "C_range = 10. ** np.arange(4,8)\n",
    "param_grid_svc = dict(C=C_range)\n",
    "svc = SVC(gamma=1)\n",
    "svc_cv = GridSearchCV(svc,param_grid_svc,cv=5,n_jobs=2)\n",
    "svc_cv.fit(X_train,y_train)\n",
    "print(svc_cv.best_params_)\n",
    "print(svc_cv.best_score_)"
   ]
  },
  {
   "cell_type": "markdown",
   "metadata": {},
   "source": [
    "### Tuning n_neighbors for KNNeighbor"
   ]
  },
  {
   "cell_type": "code",
   "execution_count": 100,
   "metadata": {},
   "outputs": [
    {
     "name": "stdout",
     "output_type": "stream",
     "text": [
      "{'n_neighbors': 1}\n",
      "0.950662555213\n"
     ]
    }
   ],
   "source": [
    "K_range = np.arange(1,12,2)\n",
    "knn = KNeighborsClassifier()\n",
    "param_grid_knn = dict(n_neighbors=K_range)\n",
    "knn_cv = GridSearchCV(knn,param_grid_knn,cv=5,n_jobs=2)\n",
    "knn_cv.fit(X_train,y_train)\n",
    "print(knn_cv.best_params_)\n",
    "print(knn_cv.best_score_)"
   ]
  },
  {
   "cell_type": "markdown",
   "metadata": {},
   "source": [
    "### Tuning  min_samples_split and min_samples_leaf for Decision Tree Classifier"
   ]
  },
  {
   "cell_type": "code",
   "execution_count": 108,
   "metadata": {},
   "outputs": [
    {
     "name": "stdout",
     "output_type": "stream",
     "text": [
      "{'min_samples_leaf': 1, 'min_samples_split': 3}\n",
      "0.978081506792\n"
     ]
    }
   ],
   "source": [
    "param_grid_tree = {\"min_samples_split\": np.arange(2, 11),\n",
    "              \"min_samples_leaf\": np.arange(1, 11)}\n",
    "tree = DecisionTreeClassifier()\n",
    "tree_cv = GridSearchCV(tree,param_grid_tree,cv=5,n_jobs=4)\n",
    "tree_cv.fit(X_train,y_train)\n",
    "print(tree_cv.best_params_)\n",
    "print(tree_cv.best_score_)"
   ]
  },
  {
   "cell_type": "markdown",
   "metadata": {},
   "source": [
    "### Fitting Voting Classifier Ensemble with SVC, KNN, Decision Tree and Logistic Regression"
   ]
  },
  {
   "cell_type": "code",
   "execution_count": 163,
   "metadata": {},
   "outputs": [
    {
     "name": "stdout",
     "output_type": "stream",
     "text": [
      "Training Accuracy: 97.7499500173 %\n",
      "\n",
      "-*-*-*-*-*-*-*-*-*-*-*-*-*-*-*-*-*-*-*-*-*-*-*-*-*\n",
      "\n",
      "Accuracy on unseen hold out set: 97.5666666667 %\n",
      "\n"
     ]
    },
    {
     "data": {
      "image/png": "[encoded data removed]",
      "text/plain": [
       "<matplotlib.figure.Figure at 0x3a5f364a8>"
      ]
     },
     "metadata": {},
     "output_type": "display_data"
    },
    {
     "name": "stdout",
     "output_type": "stream",
     "text": [
      "Binary confusion matrix:\n",
      "Predicted      Attrition_Yes  Attriton_No  __all__\n",
      "Actual                                            \n",
      "Attrition_Yes            668           38      706\n",
      "Attriton_No               35         2259     2294\n",
      "__all__                  703         2297     3000\n",
      "\n",
      "Positive = Attriton_No(employee did not leave)\n",
      "Negative = Attriton_Yes(employee left)\n",
      "\n",
      "True Positive Rate: 98.4742807323 %\n",
      "False Positive Rate: 5.38243626062 %\n",
      "True Negative Rate: 94.6175637394 %\n",
      "False Negative Rate: 1.52571926765 %\n"
     ]
    }
   ],
   "source": [
    "model1 = SVC(C=10000,gamma=1,probability=True)\n",
    "model2 = KNeighborsClassifier(n_neighbors=1)\n",
    "model3 = DecisionTreeClassifier(min_samples_leaf=1,min_samples_split=3)\n",
    "model4 = LogisticRegression()\n",
    "estimators = [('svm',model1),('knn',model2),('tree',model3),('logreg',model4)]\n",
    "ensemble = VotingClassifier(estimators,voting='soft')\n",
    "train_result = cross_val_score(ensemble,X_train,y_train,cv=10)\n",
    "ensemble.fit(X_train,y_train)\n",
    "print('Training Accuracy:',train_result.mean()*100,'%')\n",
    "display_stats(ensemble,'Voting Classifier')"
   ]
  },
  {
   "cell_type": "markdown",
   "metadata": {},
   "source": [
    "## Bagging with Random Forest Classifier"
   ]
  },
  {
   "cell_type": "markdown",
   "metadata": {},
   "source": [
    "### Tuning min_samples_leaf and min_samples_split"
   ]
  },
  {
   "cell_type": "code",
   "execution_count": 19,
   "metadata": {},
   "outputs": [
    {
     "name": "stdout",
     "output_type": "stream",
     "text": [
      "{'min_samples_leaf': 1, 'min_samples_split': 2}\n",
      "0.988749062422\n"
     ]
    }
   ],
   "source": [
    "rf = RandomForestClassifier(n_estimators=20,n_jobs=-1,max_features='sqrt',random_state=42)\n",
    "param_grid1 = {\"min_samples_split\": np.arange(2, 11),\n",
    "              \"min_samples_leaf\": np.arange(1, 11)}\n",
    "rf_cv = GridSearchCV(rf,param_grid1,cv=5)\n",
    "rf_cv.fit(X_train,y_train)\n",
    "print(rf_cv.best_params_)\n",
    "print(rf_cv.best_score_)"
   ]
  },
  {
   "cell_type": "markdown",
   "metadata": {},
   "source": [
    "### Tuning max_features and max_depth"
   ]
  },
  {
   "cell_type": "code",
   "execution_count": 12,
   "metadata": {},
   "outputs": [
    {
     "name": "stdout",
     "output_type": "stream",
     "text": [
      "{'max_depth': 16, 'max_features': 'sqrt'}\n",
      "0.988915742979\n"
     ]
    }
   ],
   "source": [
    "rf = RandomForestClassifier(n_estimators=20,n_jobs=-1,max_features='sqrt',random_state=42,\n",
    "                            min_samples_split=2,min_samples_leaf=1)\n",
    "param_grid2 ={'max_features':['sqrt','log2'],'max_depth':np.arange(9,21)}\n",
    "rf_cv = GridSearchCV(rf,param_grid2,cv=5)\n",
    "rf_cv.fit(X_train,y_train)\n",
    "print(rf_cv.best_params_)\n",
    "print(rf_cv.best_score_)"
   ]
  },
  {
   "cell_type": "markdown",
   "metadata": {},
   "source": [
    "### Increasing the number of estimators and fitting on hold out set"
   ]
  },
  {
   "cell_type": "code",
   "execution_count": 164,
   "metadata": {},
   "outputs": [
    {
     "name": "stdout",
     "output_type": "stream",
     "text": [
      "Training Accuracy: 99.7333111093 %\n",
      "\n",
      "-*-*-*-*-*-*-*-*-*-*-*-*-*-*-*-*-*-*-*-*-*-*-*-*-*\n",
      "\n",
      "Accuracy on unseen hold out set: 98.8333333333 %\n",
      "\n"
     ]
    },
    {
     "data": {
      "image/png": "[encoded data removed]",
      "text/plain": [
       "<matplotlib.figure.Figure at 0x3e6c64e80>"
      ]
     },
     "metadata": {},
     "output_type": "display_data"
    },
    {
     "name": "stdout",
     "output_type": "stream",
     "text": [
      "Binary confusion matrix:\n",
      "Predicted      Attrition_Yes  Attriton_No  __all__\n",
      "Actual                                            \n",
      "Attrition_Yes            678           28      706\n",
      "Attriton_No                7         2287     2294\n",
      "__all__                  685         2315     3000\n",
      "\n",
      "Positive = Attriton_No(employee did not leave)\n",
      "Negative = Attriton_Yes(employee left)\n",
      "\n",
      "True Positive Rate: 99.6948561465 %\n",
      "False Positive Rate: 3.96600566572 %\n",
      "True Negative Rate: 96.0339943343 %\n",
      "False Negative Rate: 0.305143853531 %\n"
     ]
    }
   ],
   "source": [
    "rf = RandomForestClassifier(n_estimators=200,n_jobs=-1,max_features='sqrt',random_state=42,\n",
    "                            min_samples_split=2,min_samples_leaf=1,max_depth=16)\n",
    "rf.fit(X_train,y_train)\n",
    "print('Training Accuracy:',rf.score(X_train,y_train)*100,'%')\n",
    "display_stats(rf,'Random Forest Classifier')"
   ]
  },
  {
   "cell_type": "markdown",
   "metadata": {},
   "source": [
    "## Bagging with Extra Trees Classifier"
   ]
  },
  {
   "cell_type": "markdown",
   "metadata": {},
   "source": [
    "### Tuning min_samples_split and min_samples_leaf"
   ]
  },
  {
   "cell_type": "code",
   "execution_count": 8,
   "metadata": {},
   "outputs": [
    {
     "name": "stdout",
     "output_type": "stream",
     "text": [
      "{'min_samples_leaf': 1, 'min_samples_split': 3}\n",
      "0.986498874906\n"
     ]
    }
   ],
   "source": [
    "et = ExtraTreesClassifier(n_estimators=40,n_jobs=-1,max_features='sqrt',random_state=42)\n",
    "param_grid1 = {\"min_samples_split\": np.arange(2, 11),\n",
    "              \"min_samples_leaf\": np.arange(1, 11)}\n",
    "et_cv = GridSearchCV(et,param_grid1,cv=5)\n",
    "et_cv.fit(X_train,y_train)\n",
    "print(et_cv.best_params_)\n",
    "print(et_cv.best_score_)"
   ]
  },
  {
   "cell_type": "markdown",
   "metadata": {},
   "source": [
    "### Tuning max_features and max_depth"
   ]
  },
  {
   "cell_type": "code",
   "execution_count": 15,
   "metadata": {},
   "outputs": [
    {
     "name": "stdout",
     "output_type": "stream",
     "text": [
      "{'max_depth': 25, 'max_features': 'sqrt'}\n",
      "0.986915576298\n"
     ]
    }
   ],
   "source": [
    "et = ExtraTreesClassifier(n_estimators=40,n_jobs=-1,max_features='sqrt',random_state=42,min_samples_leaf=1,\n",
    "                         min_samples_split=3)\n",
    "param_grid2 ={'max_features':['sqrt','log2'],'max_depth':np.arange(10,31)}\n",
    "et_cv = GridSearchCV(et,param_grid2,cv=5)\n",
    "et_cv.fit(X_train,y_train)\n",
    "print(et_cv.best_params_)\n",
    "print(et_cv.best_score_)"
   ]
  },
  {
   "cell_type": "markdown",
   "metadata": {},
   "source": [
    "### Increasing the number of estimators and fitting on hold out set"
   ]
  },
  {
   "cell_type": "code",
   "execution_count": 166,
   "metadata": {},
   "outputs": [
    {
     "name": "stdout",
     "output_type": "stream",
     "text": [
      "Training Accuracy: 99.9916659722 %\n",
      "\n",
      "-*-*-*-*-*-*-*-*-*-*-*-*-*-*-*-*-*-*-*-*-*-*-*-*-*\n",
      "\n",
      "Accuracy on unseen hold out set: 98.6666666667 %\n",
      "\n"
     ]
    },
    {
     "data": {
      "image/png": "[encoded data removed]",
      "text/plain": [
       "<matplotlib.figure.Figure at 0x2c6c0acc0>"
      ]
     },
     "metadata": {},
     "output_type": "display_data"
    },
    {
     "name": "stdout",
     "output_type": "stream",
     "text": [
      "Binary confusion matrix:\n",
      "Predicted      Attrition_Yes  Attriton_No  __all__\n",
      "Actual                                            \n",
      "Attrition_Yes            676           30      706\n",
      "Attriton_No               10         2284     2294\n",
      "__all__                  686         2314     3000\n",
      "\n",
      "Positive = Attriton_No(employee did not leave)\n",
      "Negative = Attriton_Yes(employee left)\n",
      "\n",
      "True Positive Rate: 99.5640802092 %\n",
      "False Positive Rate: 4.2492917847 %\n",
      "True Negative Rate: 95.7507082153 %\n",
      "False Negative Rate: 0.435919790759 %\n"
     ]
    }
   ],
   "source": [
    "et = ExtraTreesClassifier(n_estimators=200,n_jobs=-1,max_features='sqrt',random_state=42,min_samples_leaf=1,\n",
    "                         min_samples_split=3,max_depth=25)\n",
    "et.fit(X_train,y_train)\n",
    "print('Training Accuracy:',et.score(X_train,y_train)*100,'%')\n",
    "display_stats(et,'Extra Trees Classifier')"
   ]
  },
  {
   "cell_type": "markdown",
   "metadata": {},
   "source": [
    "## Boosting with Adaboost on Decision Trees"
   ]
  },
  {
   "cell_type": "markdown",
   "metadata": {},
   "source": [
    "### Tuning learning_rate and n_estimators"
   ]
  },
  {
   "cell_type": "code",
   "execution_count": 45,
   "metadata": {},
   "outputs": [
    {
     "name": "stdout",
     "output_type": "stream",
     "text": [
      "{'learning_rate': 1.0, 'n_estimators': 50}\n",
      "0.989082423535\n"
     ]
    }
   ],
   "source": [
    "#Boosting \n",
    "#Adaboost with decision tree classifier\n",
    "#Using Decision Trees with optimal min_samples_split and min_samples_leaf already tuned on previous models\n",
    "tree = DecisionTreeClassifier(min_samples_leaf=1,min_samples_split=3)\n",
    "adaB = AdaBoostClassifier(base_estimator=tree,random_state=42)\n",
    "est_range = np.arange(50,250,50)\n",
    "lr_range = 10. ** np.arange(-3,3)\n",
    "param_grid = dict(learning_rate=lr_range,n_estimators=est_range)\n",
    "adaB_cv = GridSearchCV(adaB,param_grid,cv=5)\n",
    "adaB_cv.fit(X_train,y_train)\n",
    "print(adaB_cv.best_params_)\n",
    "print(adaB_cv.best_score_)"
   ]
  },
  {
   "cell_type": "markdown",
   "metadata": {},
   "source": [
    "### Fitting on hold out set"
   ]
  },
  {
   "cell_type": "code",
   "execution_count": 169,
   "metadata": {},
   "outputs": [
    {
     "name": "stdout",
     "output_type": "stream",
     "text": [
      "Mean Training Accuracy: 96.4913311803 %\n",
      "\n",
      "-*-*-*-*-*-*-*-*-*-*-*-*-*-*-*-*-*-*-*-*-*-*-*-*-*\n",
      "\n",
      "Accuracy on unseen hold out set: 96.6666666667 %\n",
      "\n"
     ]
    },
    {
     "data": {
      "image/png": "[encoded data removed]",
      "text/plain": [
       "<matplotlib.figure.Figure at 0x28632f160>"
      ]
     },
     "metadata": {},
     "output_type": "display_data"
    },
    {
     "name": "stdout",
     "output_type": "stream",
     "text": [
      "Binary confusion matrix:\n",
      "Predicted      Attrition_Yes  Attriton_No  __all__\n",
      "Actual                                            \n",
      "Attrition_Yes            666           40      706\n",
      "Attriton_No               60         2234     2294\n",
      "__all__                  726         2274     3000\n",
      "\n",
      "Positive = Attriton_No(employee did not leave)\n",
      "Negative = Attriton_Yes(employee left)\n",
      "\n",
      "True Positive Rate: 97.3844812554 %\n",
      "False Positive Rate: 5.6657223796 %\n",
      "True Negative Rate: 94.3342776204 %\n",
      "False Negative Rate: 2.61551874455 %\n"
     ]
    }
   ],
   "source": [
    "adaB = AdaBoostClassifier(base_estimator=tree,n_estimators=50,learning_rate=1,random_state=42)\n",
    "adaB.fit(X_train,y_train)\n",
    "train_result = cross_val_score(adaB,X_train,y_train,cv=10)\n",
    "print('Mean Training Accuracy:',train_result.mean()*100,'%')\n",
    "display_stats(adaB,'AdaBoost Classifier')"
   ]
  },
  {
   "cell_type": "markdown",
   "metadata": {},
   "source": [
    "## Boosting with AdaBoost on Extra Trees"
   ]
  },
  {
   "cell_type": "markdown",
   "metadata": {},
   "source": [
    "### Tuning learning_rate and n_estimators"
   ]
  },
  {
   "cell_type": "code",
   "execution_count": 53,
   "metadata": {},
   "outputs": [
    {
     "name": "stdout",
     "output_type": "stream",
     "text": [
      "{'learning_rate': 0.001, 'n_estimators': 150}\n",
      "0.987248937411\n"
     ]
    }
   ],
   "source": [
    "#Adaboost extra tree classifier\n",
    "#Using Extra trees with optimal min_samples_split and min_samples_leaf already tuned on previous models\n",
    "et = ExtraTreeClassifier(min_samples_leaf=1,min_samples_split=3)\n",
    "adaB = AdaBoostClassifier(base_estimator=et,random_state=42)\n",
    "est_range = np.arange(50,250,50)\n",
    "lr_range = 10. ** np.arange(-3,3)\n",
    "param_grid = dict(learning_rate=lr_range,n_estimators=est_range)\n",
    "adaB_cv = GridSearchCV(adaB,param_grid,cv=5)\n",
    "adaB_cv.fit(X_train,y_train)\n",
    "print(adaB_cv.best_params_)\n",
    "print(adaB_cv.best_score_)"
   ]
  },
  {
   "cell_type": "markdown",
   "metadata": {},
   "source": [
    "### Fittting on hold out set"
   ]
  },
  {
   "cell_type": "code",
   "execution_count": 171,
   "metadata": {},
   "outputs": [
    {
     "name": "stdout",
     "output_type": "stream",
     "text": [
      "Mean Training Accuracy: 98.8166381597 %\n",
      "\n",
      "-*-*-*-*-*-*-*-*-*-*-*-*-*-*-*-*-*-*-*-*-*-*-*-*-*\n",
      "\n",
      "Accuracy on unseen hold out set: 98.5 %\n",
      "\n"
     ]
    },
    {
     "data": {
      "image/png": "[encoded data removed]",
      "text/plain": [
       "<matplotlib.figure.Figure at 0x3d50d79e8>"
      ]
     },
     "metadata": {},
     "output_type": "display_data"
    },
    {
     "name": "stdout",
     "output_type": "stream",
     "text": [
      "Binary confusion matrix:\n",
      "Predicted      Attrition_Yes  Attriton_No  __all__\n",
      "Actual                                            \n",
      "Attrition_Yes            674           32      706\n",
      "Attriton_No               13         2281     2294\n",
      "__all__                  687         2313     3000\n",
      "\n",
      "Positive = Attriton_No(employee did not leave)\n",
      "Negative = Attriton_Yes(employee left)\n",
      "\n",
      "True Positive Rate: 99.433304272 %\n",
      "False Positive Rate: 4.53257790368 %\n",
      "True Negative Rate: 95.4674220963 %\n",
      "False Negative Rate: 0.566695727986 %\n"
     ]
    }
   ],
   "source": [
    "adaB_et = AdaBoostClassifier(base_estimator=et,n_estimators=150,learning_rate=0.001,random_state=42)\n",
    "adaB_et.fit(X_train,y_train)\n",
    "train_result = cross_val_score(adaB_et,X_train,y_train,cv=10)\n",
    "print('Mean Training Accuracy:',train_result.mean()*100,'%')\n",
    "display_stats(adaB_et,'AdaBoost(Extra Tree) Classifier')"
   ]
  },
  {
   "cell_type": "markdown",
   "metadata": {},
   "source": [
    "## Stochastic Gradient Boosting"
   ]
  },
  {
   "cell_type": "markdown",
   "metadata": {},
   "source": [
    "### Tuning subsample"
   ]
  },
  {
   "cell_type": "code",
   "execution_count": 64,
   "metadata": {},
   "outputs": [
    {
     "name": "stdout",
     "output_type": "stream",
     "text": [
      "{'subsample': 0.59999999999999998}\n",
      "0.975247937328\n"
     ]
    }
   ],
   "source": [
    "#Stochastic Gradient Boosting \n",
    "sgb = GradientBoostingClassifier(max_features='sqrt',random_state=42)\n",
    "subsample_range = np.arange(1,8)/10\n",
    "param_grid1 = dict(subsample=subsample_range)\n",
    "sgb_cv = GridSearchCV(sgb,param_grid1,cv=5)\n",
    "sgb_cv.fit(X_train,y_train)\n",
    "print(sgb_cv.best_params_)\n",
    "print(sgb_cv.best_score_)"
   ]
  },
  {
   "cell_type": "markdown",
   "metadata": {},
   "source": [
    "### Tuning min_samples_leaf and min_samples_split"
   ]
  },
  {
   "cell_type": "code",
   "execution_count": 66,
   "metadata": {},
   "outputs": [
    {
     "name": "stdout",
     "output_type": "stream",
     "text": [
      "{'min_samples_leaf': 1, 'min_samples_split': 2}\n",
      "0.975247937328\n"
     ]
    }
   ],
   "source": [
    "sgb = GradientBoostingClassifier(max_features='sqrt',random_state=42,subsample=0.6)\n",
    "param_grid2 = {\"min_samples_split\": np.arange(2, 11),\n",
    "              \"min_samples_leaf\": np.arange(1, 11)}\n",
    "sgb_cv = GridSearchCV(sgb,param_grid2,cv=5)\n",
    "sgb_cv.fit(X_train,y_train)\n",
    "print(sgb_cv.best_params_)\n",
    "print(sgb_cv.best_score_)"
   ]
  },
  {
   "cell_type": "markdown",
   "metadata": {},
   "source": [
    "### Tuning max_depth"
   ]
  },
  {
   "cell_type": "code",
   "execution_count": 69,
   "metadata": {},
   "outputs": [
    {
     "name": "stdout",
     "output_type": "stream",
     "text": [
      "{'max_depth': 20}\n",
      "0.990165847154\n"
     ]
    }
   ],
   "source": [
    "sgb = GradientBoostingClassifier(max_features='sqrt',random_state=42,subsample=0.6)\n",
    "param_grid3 = {\"max_depth\":np.arange(20,31)}\n",
    "sgb_cv = GridSearchCV(sgb,param_grid3,cv=5)\n",
    "sgb_cv.fit(X_train,y_train)\n",
    "print(sgb_cv.best_params_)\n",
    "print(sgb_cv.best_score_)"
   ]
  },
  {
   "cell_type": "markdown",
   "metadata": {},
   "source": [
    "### Tuning learning_rate"
   ]
  },
  {
   "cell_type": "code",
   "execution_count": 74,
   "metadata": {},
   "outputs": [
    {
     "name": "stdout",
     "output_type": "stream",
     "text": [
      "{'learning_rate': 0.10000000000000001}\n",
      "0.990332527711\n"
     ]
    }
   ],
   "source": [
    "sgb = GradientBoostingClassifier(n_estimators=500,max_features='sqrt',random_state=42,min_samples_leaf=1,\n",
    "                                min_samples_split=2,max_depth=20,subsample=0.6)\n",
    "lr_range = 10. ** np.arange(-3,1)\n",
    "param_grid4 = dict(learning_rate=lr_range)\n",
    "sgb_cv = GridSearchCV(sgb,param_grid4,cv=5)\n",
    "sgb_cv.fit(X_train,y_train)\n",
    "print(sgb_cv.best_params_)\n",
    "print(sgb_cv.best_score_)"
   ]
  },
  {
   "cell_type": "markdown",
   "metadata": {},
   "source": [
    "### Increasing number of estimators and fitting on hold out set"
   ]
  },
  {
   "cell_type": "code",
   "execution_count": 11,
   "metadata": {},
   "outputs": [
    {
     "name": "stdout",
     "output_type": "stream",
     "text": [
      "Mean Training Accuracy: 99.0499994213 %\n",
      "\n",
      "-*-*-*-*-*-*-*-*-*-*-*-*-*-*-*-*-*-*-*-*-*-*-*-*-*\n",
      "\n",
      "Accuracy on unseen hold out set: 98.8333333333 %\n",
      "\n"
     ]
    },
    {
     "data": {
      "image/png": "[encoded data removed]",
      "text/plain": [
       "<matplotlib.figure.Figure at 0x123cbeda0>"
      ]
     },
     "metadata": {},
     "output_type": "display_data"
    },
    {
     "name": "stdout",
     "output_type": "stream",
     "text": [
      "Binary confusion matrix:\n",
      "Predicted      Attrition_Yes  Attriton_No  __all__\n",
      "Actual                                            \n",
      "Attrition_Yes            681           25      706\n",
      "Attriton_No               10         2284     2294\n",
      "__all__                  691         2309     3000\n",
      "\n",
      "Positive = Attriton_No(employee did not leave)\n",
      "Negative = Attriton_Yes(employee left)\n",
      "\n",
      "True Positive Rate: 99.5640802092 %\n",
      "False Positive Rate: 3.54107648725 %\n",
      "True Negative Rate: 96.4589235127 %\n",
      "False Negative Rate: 0.435919790759 %\n"
     ]
    }
   ],
   "source": [
    "sgb = GradientBoostingClassifier(n_estimators=2000,max_features='sqrt',random_state=42,min_samples_leaf=1,\n",
    "                                min_samples_split=2,max_depth=20,subsample=0.6,learning_rate=0.1)\n",
    "sgb.fit(X_train,y_train)\n",
    "train_result = cross_val_score(sgb,X_train,y_train,cv=10)\n",
    "print('Mean Training Accuracy:',train_result.mean()*100,'%')\n",
    "display_stats(sgb,'Stochastic Gradient Boosting Classifier')"
   ]
  },
  {
   "cell_type": "markdown",
   "metadata": {},
   "source": [
    "### Feature Importance"
   ]
  },
  {
   "cell_type": "code",
   "execution_count": 60,
   "metadata": {},
   "outputs": [
    {
     "data": {
      "image/png": "[encoded data removed]",
      "text/plain": [
       "<matplotlib.figure.Figure at 0x123935fd0>"
      ]
     },
     "metadata": {},
     "output_type": "display_data"
    }
   ],
   "source": [
    "f, ax = plt.subplots(figsize=(8,6))\n",
    "f_imp = np.append(sgb.feature_importances_[:8],sum(sgb.feature_importances_[8:]))\n",
    "features = np.array(('satisfaction_level','last_evaluation','project_number','average_monthly_hours',\n",
    "                        'years_at_company','work_accidents','promotion_last_5years','salary','department'))\n",
    "sns.barplot(x=f_imp,y=features,palette=sns.color_palette(\"Blues_r\"))\n",
    "plt.show()"
   ]
  },
  {
   "cell_type": "code",
   "execution_count": null,
   "metadata": {
    "collapsed": true
   },
   "outputs": [],
   "source": []
  }
 ],
 "metadata": {
  "kernelspec": {
   "display_name": "Python 3",
   "language": "python",
   "name": "python3"
  },
  "language_info": {
   "codemirror_mode": {
    "name": "ipython",
    "version": 3
   },
   "file_extension": ".py",
   "mimetype": "text/x-python",
   "name": "python",
   "nbconvert_exporter": "python",
   "pygments_lexer": "ipython3",
   "version": "3.6.3"
  }
 },
 "nbformat": 4,
 "nbformat_minor": 2
}
